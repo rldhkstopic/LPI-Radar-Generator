{
 "cells": [
  {
   "cell_type": "code",
   "execution_count": null,
   "metadata": {},
   "outputs": [],
   "source": [
    "import os\n",
    "import numpy as np\n",
    "import matplotlib.pyplot as plt\n",
    "from scipy.signal import stft\n",
    "from Generator import LPI_Generator\n",
    "\n",
    "datatypes = [\n",
    "             'Signal',      # Original Signal\n",
    "             'Noise',       # AWGN Noise\n",
    "             'Noisy',       # Original + AWGN signal\n",
    "             'pwnNoisy'     # Noisy signal with Power Normalization\n",
    "            ]    \n",
    "\n",
    "A = 1 \n",
    "fps = 1\n",
    "fs = 100e6\n",
    "datatype = datatypes[3]\n",
    "snr_values = np.arange(-16, 2, 2)\n",
    "data_path = '/data/kiwan/LPI_KIWAN'\n",
    "waveforms = ['LFM', 'Costas', 'Barker', 'Frank', 'P1', 'P2', 'P3', 'P4', 'T1', 'T2', 'T3', 'T4']\n",
    "\n",
    "\n",
    "\n",
    "idx = 0\n",
    "fig, axes = plt.subplots(len(waveforms), len(snr_values), figsize=(20, 25))\n",
    "for i, waveform in enumerate(waveforms):\n",
    "    for j, snr in enumerate(snr_values):\n",
    "        ax = axes[i, j]\n",
    "        signal = np.load(os.path.join(data_path, waveform, f'{waveform}_snr{snr}_{datatype}_{idx}.npy'))\n",
    "        \n",
    "        f, t, Zxx = stft(signal, fs, nperseg=256, return_onesided=False)\n",
    "        ax.pcolormesh(t, f[:len(f)//2], np.abs(Zxx[:len(f)//2]), shading='gouraud')\n",
    "        \n",
    "        ax.axis('off')\n",
    "        ax.set_title(f'{waveform} (SNR = {snr} dB)', pad=5)\n",
    "        \n",
    "plt.tight_layout()\n",
    "plt.savefig(f'./assets/{datatype}_STFT.png')"
   ]
  }
 ],
 "metadata": {
  "language_info": {
   "name": "python"
  }
 },
 "nbformat": 4,
 "nbformat_minor": 2
}
